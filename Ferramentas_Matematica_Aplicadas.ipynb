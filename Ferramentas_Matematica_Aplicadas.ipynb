{
  "nbformat": 4,
  "nbformat_minor": 0,
  "metadata": {
    "colab": {
      "provenance": [],
      "toc_visible": true,
      "authorship_tag": "ABX9TyNXYkxhFpY+jIu9Il7f1vDb",
      "include_colab_link": true
    },
    "kernelspec": {
      "name": "python3",
      "display_name": "Python 3"
    },
    "language_info": {
      "name": "python"
    }
  },
  "cells": [
    {
      "cell_type": "markdown",
      "metadata": {
        "id": "view-in-github",
        "colab_type": "text"
      },
      "source": [
        "<a href=\"https://colab.research.google.com/github/joaovictor2306069/Matematica-Aplicada/blob/main/Ferramentas_Matematica_Aplicadas.ipynb\" target=\"_parent\"><img src=\"https://colab.research.google.com/assets/colab-badge.svg\" alt=\"Open In Colab\"/></a>"
      ]
    },
    {
      "cell_type": "markdown",
      "source": [
        "# *Aula* 1\n"
      ],
      "metadata": {
        "id": "dI1InsjkhEnx"
      }
    },
    {
      "cell_type": "code",
      "source": [
        "c = 1330\n",
        "n = 10\n",
        "i = 1/100\n",
        "m = c * (1 + i)**n\n",
        "print('O valor do montante é de R$ %.2f.' % m )"
      ],
      "metadata": {
        "id": "HMtOffjwhTby"
      },
      "execution_count": null,
      "outputs": []
    },
    {
      "cell_type": "markdown",
      "source": [
        "# Aula 2\n"
      ],
      "metadata": {
        "id": "E-qKihKViQB6"
      }
    },
    {
      "cell_type": "code",
      "source": [
        "import matplotlib.pyplot as plt\n",
        "import matplotlib.patches as patches\n",
        "fig=plt.figure()\n",
        "fig1=fig.add_subplot(111, aspect='equal')\n",
        "fig1.add_patch(patches.Rectangle((2,1), 5, 7, color='green'))\n",
        "plt.ylim(0,10)\n",
        "plt.xlim(0,10)"
      ],
      "metadata": {
        "colab": {
          "base_uri": "https://localhost:8080/",
          "height": 452
        },
        "id": "jo0adPhZiVxp",
        "outputId": "cb405dbb-1cff-46f1-ecaa-51fcd3f8a235"
      },
      "execution_count": null,
      "outputs": [
        {
          "output_type": "execute_result",
          "data": {
            "text/plain": [
              "(0.0, 10.0)"
            ]
          },
          "metadata": {},
          "execution_count": 7
        },
        {
          "output_type": "display_data",
          "data": {
            "text/plain": [
              "<Figure size 640x480 with 1 Axes>"
            ],
            "image/png": "[encoded data removed]"
          },
          "metadata": {}
        }
      ]
    },
    {
      "cell_type": "markdown",
      "source": [],
      "metadata": {
        "id": "CvJr6OljhWTo"
      }
    },
    {
      "cell_type": "markdown",
      "source": [
        "# Aula 3"
      ],
      "metadata": {
        "id": "XnBrceT4bvdk"
      }
    },
    {
      "cell_type": "code",
      "source": [
        "from sympy import * # questao de ponto de equilibrio\n",
        "x,c, r = symbols(\"x r c \")\n",
        "r = 314 * x\n",
        "c = 179*x + 10530\n",
        "xp = solve(Eq(r,c),x)\n",
        "yp = r.subs(x,xp[0])\n",
        "print(xp)\n",
        "print(yp)"
      ],
      "metadata": {
        "colab": {
          "base_uri": "https://localhost:8080/"
        },
        "id": "zwHa1raQVXL9",
        "outputId": "49892d4f-6617-4289-e151-dc793395451f"
      },
      "execution_count": 1,
      "outputs": [
        {
          "output_type": "stream",
          "name": "stdout",
          "text": [
            "[78]\n",
            "24492\n"
          ]
        }
      ]
    },
    {
      "cell_type": "code",
      "source": [
        "# Fatoração\n",
        "from sympy import *\n",
        "x = symbols(\"x\")\n",
        "factor(x**2 + 8*x)"
      ],
      "metadata": {
        "colab": {
          "base_uri": "https://localhost:8080/",
          "height": 38
        },
        "id": "rNxLb-vikaSY",
        "outputId": "7cd75f80-153a-4fd3-a1d2-70a5ca014bb5"
      },
      "execution_count": null,
      "outputs": [
        {
          "output_type": "execute_result",
          "data": {
            "text/plain": [
              "x*(x + 8)"
            ],
            "text/latex": "$\\displaystyle x \\left(x + 8\\right)$"
          },
          "metadata": {},
          "execution_count": 8
        }
      ]
    },
    {
      "cell_type": "code",
      "source": [
        "# Expandir\n",
        "from sympy import *\n",
        "x,y = symbols(\"x y\")\n",
        "expand(x*(x+y))\n"
      ],
      "metadata": {
        "colab": {
          "base_uri": "https://localhost:8080/",
          "height": 38
        },
        "id": "x8r9a5cXkxIL",
        "outputId": "5942d6f6-2009-4f10-df1c-fbb6930a8c0d"
      },
      "execution_count": null,
      "outputs": [
        {
          "output_type": "execute_result",
          "data": {
            "text/plain": [
              "x**2 + x*y"
            ],
            "text/latex": "$\\displaystyle x^{2} + x y$"
          },
          "metadata": {},
          "execution_count": 10
        }
      ]
    },
    {
      "cell_type": "code",
      "source": [
        "# Exercicio 1 lista\n",
        "from sympy import *\n",
        "x,y = symbols(\"x y\")\n",
        "expand((2*x+y)**3)"
      ],
      "metadata": {
        "colab": {
          "base_uri": "https://localhost:8080/",
          "height": 38
        },
        "id": "99mNC86IlXmZ",
        "outputId": "b58b485c-b23a-4820-83db-b70e28f89788"
      },
      "execution_count": null,
      "outputs": [
        {
          "output_type": "execute_result",
          "data": {
            "text/plain": [
              "8*x**3 + 12*x**2*y + 6*x*y**2 + y**3"
            ],
            "text/latex": "$\\displaystyle 8 x^{3} + 12 x^{2} y + 6 x y^{2} + y^{3}$"
          },
          "metadata": {},
          "execution_count": 11
        }
      ]
    },
    {
      "cell_type": "code",
      "source": [
        "# Questao 05 Lista\n",
        "from sympy import *\n",
        "salario = 2324\n",
        "gasto = 1 / 3\n",
        "restante = salario * gasto\n",
        "print(\"O restante que irá sobrar é de R$: %.2f.\" % restante)\n"
      ],
      "metadata": {
        "colab": {
          "base_uri": "https://localhost:8080/"
        },
        "id": "6mtD-1_onk6h",
        "outputId": "87cfcc30-1217-4110-dc40-894df9c3888a"
      },
      "execution_count": null,
      "outputs": [
        {
          "output_type": "stream",
          "name": "stdout",
          "text": [
            "O restante que irá sobrar é de R$: 774.67.\n"
          ]
        }
      ]
    },
    {
      "cell_type": "code",
      "source": [
        "# Exercicio 7 Lista\n",
        "from sympy import *\n",
        "x,y = symbols(\"x y\")\n",
        "factor((x**2 * y**5) + (3*x**3 * y**4) - (x**3 * y**6))\n",
        "\n"
      ],
      "metadata": {
        "colab": {
          "base_uri": "https://localhost:8080/",
          "height": 38
        },
        "id": "yl0B-6dcqMAY",
        "outputId": "595f1874-e051-42bf-dbc3-b82cdb6390b1"
      },
      "execution_count": null,
      "outputs": [
        {
          "output_type": "execute_result",
          "data": {
            "text/plain": [
              "-x**2*y**4*(x*y**2 - 3*x - y)"
            ],
            "text/latex": "$\\displaystyle - x^{2} y^{4} \\left(x y^{2} - 3 x - y\\right)$"
          },
          "metadata": {},
          "execution_count": 15
        }
      ]
    },
    {
      "cell_type": "code",
      "source": [
        "from  sympy import *\n",
        "x = 480\n",
        "y = -4*x**2 + 4000 *x - 200000\n",
        "print('Lucro referente a 480 R$ será de %.2f.' % y)"
      ],
      "metadata": {
        "colab": {
          "base_uri": "https://localhost:8080/"
        },
        "id": "qBT9AWyCbyrY",
        "outputId": "6a0fa49d-9636-4be8-ebec-2bde35a26e31"
      },
      "execution_count": null,
      "outputs": [
        {
          "output_type": "stream",
          "name": "stdout",
          "text": [
            "Lucro referente a 480 R$ será de 798400.00.\n"
          ]
        }
      ]
    },
    {
      "cell_type": "code",
      "source": [
        "from sympy import *\n",
        "x,y = symbols(\"x y\")\n",
        "y = 0.003 * x**3 - 0.5*x**2 - 50*x + 5000\n",
        "y. subs(x, 1100)\n"
      ],
      "metadata": {
        "colab": {
          "base_uri": "https://localhost:8080/",
          "height": 37
        },
        "id": "hSK_qCYadBLd",
        "outputId": "66b22011-b7a5-427c-ea95-225d10a8843c"
      },
      "execution_count": null,
      "outputs": [
        {
          "output_type": "execute_result",
          "data": {
            "text/plain": [
              "3338000.00000000"
            ],
            "text/latex": "$\\displaystyle 3338000.0$"
          },
          "metadata": {},
          "execution_count": 4
        }
      ]
    },
    {
      "cell_type": "code",
      "source": [
        "from sympy import *\n",
        "x,c,t = symbols(\"x c t\")\n",
        "c = x**2 + 2*x +300\n",
        "c.subs(x, 20*t)\n"
      ],
      "metadata": {
        "colab": {
          "base_uri": "https://localhost:8080/",
          "height": 38
        },
        "id": "sbu1uUkid7xJ",
        "outputId": "00f1e298-c020-4987-f182-05f89738f91c"
      },
      "execution_count": null,
      "outputs": [
        {
          "output_type": "execute_result",
          "data": {
            "text/plain": [
              "400*t**2 + 40*t + 300"
            ],
            "text/latex": "$\\displaystyle 400 t^{2} + 40 t + 300$"
          },
          "metadata": {},
          "execution_count": 7
        }
      ]
    },
    {
      "cell_type": "code",
      "source": [
        "# Questao 2 Lista Ponto de equilibrio\n",
        "from sympy import *\n",
        "x,c, r = symbols(\"x r c \")\n",
        "r = 511 * x\n",
        "c = 392*x + 22500\n",
        "xp = solve(Eq(r,c),x)\n",
        "yp = r.subs(x,xp[0])\n",
        "print(xp)\n",
        "print(yp)\n",
        "# Dividir o 22500 / 119 =~ 189,08\n",
        "\n"
      ],
      "metadata": {
        "colab": {
          "base_uri": "https://localhost:8080/"
        },
        "id": "3-OX18TitqHj",
        "outputId": "08b49674-79ab-44a9-d5bc-d24651ecde18"
      },
      "execution_count": null,
      "outputs": [
        {
          "output_type": "stream",
          "name": "stdout",
          "text": [
            "[22500/119]\n",
            "1642500/17\n"
          ]
        }
      ]
    }
  ]
}